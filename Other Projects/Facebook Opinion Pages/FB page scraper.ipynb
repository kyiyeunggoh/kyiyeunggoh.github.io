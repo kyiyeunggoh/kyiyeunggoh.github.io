{
  "nbformat": 4,
  "nbformat_minor": 0,
  "metadata": {
    "colab": {
      "name": "Political FB Page SG.ipynb",
      "provenance": [],
      "collapsed_sections": []
    },
    "kernelspec": {
      "name": "python3",
      "display_name": "Python 3"
    }
  },
  "cells": [
    {
      "cell_type": "code",
      "metadata": {
        "id": "KIOQ-NB0hEPf",
        "colab_type": "code",
        "colab": {}
      },
      "source": [
        "pip install facebook-scraper"
      ],
      "execution_count": null,
      "outputs": []
    },
    {
      "cell_type": "markdown",
      "metadata": {
        "id": "dUZVatUu1yy0",
        "colab_type": "text"
      },
      "source": [
        "FABRICATIONS ABOUT THE PAP"
      ]
    },
    {
      "cell_type": "code",
      "metadata": {
        "id": "kBvY2obks9h1",
        "colab_type": "code",
        "colab": {}
      },
      "source": [
        "import requests\n",
        "import json\n",
        "import os\n",
        "import pandas as pd\n",
        "import re"
      ],
      "execution_count": null,
      "outputs": []
    },
    {
      "cell_type": "code",
      "metadata": {
        "id": "-h3C1imChZrY",
        "colab_type": "code",
        "colab": {}
      },
      "source": [
        "from facebook_scraper import get_posts\n",
        "\n",
        "FAP_comments=[]\n",
        "FAP_image=[]\n",
        "FAP_likes=[]\n",
        "FAP_postid=[]\n",
        "FAP_posttext=[]\n",
        "FAP_posturl=[]\n",
        "FAP_sharedtext=[]\n",
        "FAP_shares=[]\n",
        "FAP_text=[]\n",
        "FAP_time=[]\n",
        "\n",
        "for post in get_posts('FabricationsAboutThePAP', pages=50000):\n",
        "  FAP_comments.append(post['comments'])\n",
        "  FAP_image.append(post['image'])\n",
        "  FAP_likes.append(post['likes'])\n",
        "  FAP_postid.append(post['post_id'])\n",
        "  FAP_posttext.append(post['post_text'])\n",
        "  FAP_posturl.append(post['post_url'])\n",
        "  FAP_sharedtext.append(post['shared_text'])\n",
        "  FAP_shares.append(post['shares'])\n",
        "  FAP_text.append(post['text'])\n",
        "  FAP_time.append(post['time'])\n",
        "  print(post['text'][:50])"
      ],
      "execution_count": null,
      "outputs": []
    },
    {
      "cell_type": "code",
      "metadata": {
        "id": "NlydFTRPlaho",
        "colab_type": "code",
        "colab": {}
      },
      "source": [
        "frames=[pd.DataFrame(FAP_comments),pd.DataFrame(FAP_image),pd.DataFrame(FAP_likes),pd.DataFrame(FAP_postid),pd.DataFrame(FAP_posttext),pd.DataFrame(FAP_posturl),\n",
        "        pd.DataFrame(FAP_sharedtext),pd.DataFrame(FAP_shares),pd.DataFrame(FAP_text),pd.DataFrame(FAP_time)]\n",
        "FAP_db_all=pd.concat(frames,axis=1)\n",
        "\n"
      ],
      "execution_count": null,
      "outputs": []
    },
    {
      "cell_type": "code",
      "metadata": {
        "id": "xUx8dew1tMXM",
        "colab_type": "code",
        "colab": {}
      },
      "source": [
        "# Import Drive API and authenticate.\n",
        "from google.colab import drive\n",
        "\n",
        "# Mount your Drive to the Colab VM.\n",
        "drive.mount('/gdrive')\n",
        "\n",
        "# Write the DataFrame to CSV file.\n",
        "with open('/gdrive/My Drive/FAP_DB.csv', 'w') as f:\n",
        "  FAP_db_all.to_csv(f)"
      ],
      "execution_count": null,
      "outputs": []
    },
    {
      "cell_type": "markdown",
      "metadata": {
        "id": "B998sqLK1veV",
        "colab_type": "text"
      },
      "source": [
        "FACTUALLY SINGAPORE"
      ]
    },
    {
      "cell_type": "code",
      "metadata": {
        "id": "GvJ4ohn81dAq",
        "colab_type": "code",
        "colab": {}
      },
      "source": [
        "from facebook_scraper import get_posts\n",
        "\n",
        "FA_comments=[]\n",
        "FA_image=[]\n",
        "FA_likes=[]\n",
        "FA_postid=[]\n",
        "FA_posttext=[]\n",
        "FA_posturl=[]\n",
        "FA_sharedtext=[]\n",
        "FA_shares=[]\n",
        "FA_text=[]\n",
        "FA_time=[]\n",
        "\n",
        "for post in get_posts('factually.sg', pages=50000):\n",
        "  FA_comments.append(post['comments'])\n",
        "  FA_image.append(post['image'])\n",
        "  FA_likes.append(post['likes'])\n",
        "  FA_postid.append(post['post_id'])\n",
        "  FA_posttext.append(post['post_text'])\n",
        "  FA_posturl.append(post['post_url'])\n",
        "  FA_sharedtext.append(post['shared_text'])\n",
        "  FA_shares.append(post['shares'])\n",
        "  FA_text.append(post['text'])\n",
        "  FA_time.append(post['time'])\n",
        "  print(post['text'][:50])"
      ],
      "execution_count": null,
      "outputs": []
    },
    {
      "cell_type": "code",
      "metadata": {
        "id": "PgXCI4mW2uCJ",
        "colab_type": "code",
        "colab": {}
      },
      "source": [
        "frames=[pd.DataFrame(FA_comments),pd.DataFrame(FA_image),pd.DataFrame(FA_likes),pd.DataFrame(FA_postid),pd.DataFrame(FA_posttext),pd.DataFrame(FA_posturl),\n",
        "        pd.DataFrame(FA_sharedtext),pd.DataFrame(FA_shares),pd.DataFrame(FA_text),pd.DataFrame(FA_time)]\n",
        "FA_db_all=pd.concat(frames,axis=1)\n"
      ],
      "execution_count": null,
      "outputs": []
    },
    {
      "cell_type": "code",
      "metadata": {
        "id": "c3PGTnXN2098",
        "colab_type": "code",
        "colab": {}
      },
      "source": [
        "# Write the DataFrame to CSV file.\n",
        "with open('/gdrive/My Drive/FA_DB.csv', 'w') as f:\n",
        "  FA_db_all.to_csv(f)"
      ],
      "execution_count": null,
      "outputs": []
    },
    {
      "cell_type": "markdown",
      "metadata": {
        "id": "gmjYe83N3scX",
        "colab_type": "text"
      },
      "source": [
        "Global Times Singapore"
      ]
    },
    {
      "cell_type": "code",
      "metadata": {
        "id": "Uhrds0173mGJ",
        "colab_type": "code",
        "colab": {}
      },
      "source": [
        "from facebook_scraper import get_posts\n",
        "\n",
        "GT_comments=[]\n",
        "GT_image=[]\n",
        "GT_likes=[]\n",
        "GT_postid=[]\n",
        "GT_posttext=[]\n",
        "GT_posturl=[]\n",
        "GT_sharedtext=[]\n",
        "GT_shares=[]\n",
        "GT_text=[]\n",
        "GT_time=[]\n",
        "\n",
        "for post in get_posts('GlobalTimesSingapore', pages=50000):\n",
        "  GT_comments.append(post['comments'])\n",
        "  GT_image.append(post['image'])\n",
        "  GT_likes.append(post['likes'])\n",
        "  GT_postid.append(post['post_id'])\n",
        "  GT_posttext.append(post['post_text'])\n",
        "  GT_posturl.append(post['post_url'])\n",
        "  GT_sharedtext.append(post['shared_text'])\n",
        "  GT_shares.append(post['shares'])\n",
        "  GT_text.append(post['text'])\n",
        "  GT_time.append(post['time'])\n",
        "  print(post['text'][:50])"
      ],
      "execution_count": null,
      "outputs": []
    },
    {
      "cell_type": "code",
      "metadata": {
        "id": "xf2q1SW838Fg",
        "colab_type": "code",
        "colab": {}
      },
      "source": [
        "frames=[pd.DataFrame(GT_comments),pd.DataFrame(GT_image),pd.DataFrame(GT_likes),pd.DataFrame(GT_postid),pd.DataFrame(GT_posttext),pd.DataFrame(GT_posturl),\n",
        "        pd.DataFrame(GT_sharedtext),pd.DataFrame(GT_shares),pd.DataFrame(GT_text),pd.DataFrame(GT_time)]\n",
        "GT_db_all=pd.concat(frames,axis=1)"
      ],
      "execution_count": null,
      "outputs": []
    },
    {
      "cell_type": "code",
      "metadata": {
        "id": "GCctWPDg5CU5",
        "colab_type": "code",
        "colab": {}
      },
      "source": [
        "# Write the DataFrame to CSV file.\n",
        "with open('/gdrive/My Drive/GTS_DB.csv', 'w') as f:\n",
        "  GT_db_all.to_csv(f)"
      ],
      "execution_count": null,
      "outputs": []
    },
    {
      "cell_type": "markdown",
      "metadata": {
        "id": "lkhUVXu5Y1Gq",
        "colab_type": "text"
      },
      "source": [
        "FactCheckerSG"
      ]
    },
    {
      "cell_type": "code",
      "metadata": {
        "id": "BSGO6ZmEY725",
        "colab_type": "code",
        "colab": {}
      },
      "source": [
        "from facebook_scraper import get_posts\n",
        "\n",
        "FCheck_comments=[]\n",
        "FCheck_image=[]\n",
        "FCheck_likes=[]\n",
        "FCheck_postid=[]\n",
        "FCheck_posttext=[]\n",
        "FCheck_posturl=[]\n",
        "FCheck_sharedtext=[]\n",
        "FCheck_shares=[]\n",
        "FCheck_text=[]\n",
        "FCheck_time=[]\n",
        "\n",
        "for post in get_posts('factchecker.sg', pages=50000):\n",
        "  FCheck_comments.append(post['comments'])\n",
        "  FCheck_image.append(post['image'])\n",
        "  FCheck_likes.append(post['likes'])\n",
        "  FCheck_postid.append(post['post_id'])\n",
        "  FCheck_posttext.append(post['post_text'])\n",
        "  FCheck_posturl.append(post['post_url'])\n",
        "  FCheck_sharedtext.append(post['shared_text'])\n",
        "  FCheck_shares.append(post['shares'])\n",
        "  FCheck_text.append(post['text'])\n",
        "  FCheck_time.append(post['time'])\n",
        "  print(post['text'][:50])\n"
      ],
      "execution_count": null,
      "outputs": []
    },
    {
      "cell_type": "code",
      "metadata": {
        "id": "v0tOdEDDZym7",
        "colab_type": "code",
        "colab": {}
      },
      "source": [
        "frames=[pd.DataFrame(FCheck_comments),pd.DataFrame(FCheck_image),pd.DataFrame(FCheck_likes),pd.DataFrame(FCheck_postid),pd.DataFrame(FCheck_posttext),pd.DataFrame(FCheck_posturl),\n",
        "        pd.DataFrame(FCheck_sharedtext),pd.DataFrame(FCheck_shares),pd.DataFrame(FCheck_text),pd.DataFrame(FCheck_time)]\n",
        "FCheck_db_all=pd.concat(frames,axis=1)\n"
      ],
      "execution_count": null,
      "outputs": []
    },
    {
      "cell_type": "code",
      "metadata": {
        "id": "OZVXM3cdZzl0",
        "colab_type": "code",
        "colab": {}
      },
      "source": [
        "# Write the DataFrame to CSV file.\n",
        "with open('/gdrive/My Drive/FChecker_DB.csv', 'w') as f:\n",
        "  FCheck_db_all.to_csv(f)"
      ],
      "execution_count": null,
      "outputs": []
    },
    {
      "cell_type": "markdown",
      "metadata": {
        "id": "cYFz1rhJbRp-",
        "colab_type": "text"
      },
      "source": [
        "EverydaySG"
      ]
    },
    {
      "cell_type": "code",
      "metadata": {
        "id": "RB3vBEbNbSnK",
        "colab_type": "code",
        "colab": {}
      },
      "source": [
        "from facebook_scraper import get_posts\n",
        "\n",
        "everysg_comments=[]\n",
        "everysg_image=[]\n",
        "everysg_likes=[]\n",
        "everysg_postid=[]\n",
        "everysg_posttext=[]\n",
        "everysg_posturl=[]\n",
        "everysg_sharedtext=[]\n",
        "everysg_shares=[]\n",
        "everysg_text=[]\n",
        "everysg_time=[]\n",
        "\n",
        "for post in get_posts('everydaysg', pages=50000):\n",
        "  everysg_comments.append(post['comments'])\n",
        "  everysg_image.append(post['image'])\n",
        "  everysg_likes.append(post['likes'])\n",
        "  everysg_postid.append(post['post_id'])\n",
        "  everysg_posttext.append(post['post_text'])\n",
        "  everysg_posturl.append(post['post_url'])\n",
        "  everysg_sharedtext.append(post['shared_text'])\n",
        "  everysg_shares.append(post['shares'])\n",
        "  everysg_text.append(post['text'])\n",
        "  everysg_time.append(post['time'])\n",
        "  print(post['text'][:50])\n"
      ],
      "execution_count": null,
      "outputs": []
    },
    {
      "cell_type": "code",
      "metadata": {
        "id": "AcDnh1H4bYGR",
        "colab_type": "code",
        "colab": {}
      },
      "source": [
        "frames=[pd.DataFrame(everysg_comments),pd.DataFrame(everysg_image),pd.DataFrame(everysg_likes),pd.DataFrame(everysg_postid),pd.DataFrame(everysg_posttext),pd.DataFrame(everysg_posturl),\n",
        "        pd.DataFrame(everysg_sharedtext),pd.DataFrame(everysg_shares),pd.DataFrame(everysg_text),pd.DataFrame(everysg_time)]\n",
        "everysg_db_all=pd.concat(frames,axis=1)\n"
      ],
      "execution_count": null,
      "outputs": []
    },
    {
      "cell_type": "code",
      "metadata": {
        "id": "CZrqV9MKeEZT",
        "colab_type": "code",
        "colab": {}
      },
      "source": [
        "# Write the DataFrame to CSV file.\n",
        "with open('/gdrive/My Drive/everydaysg_DB.csv', 'w') as f:\n",
        "  everysg_db_all.to_csv(f)"
      ],
      "execution_count": null,
      "outputs": []
    },
    {
      "cell_type": "markdown",
      "metadata": {
        "id": "9PHJ1z2JeVXO",
        "colab_type": "text"
      },
      "source": [
        "SGMatters"
      ]
    },
    {
      "cell_type": "code",
      "metadata": {
        "id": "nB4SJ_ujeS1o",
        "colab_type": "code",
        "colab": {}
      },
      "source": [
        "from facebook_scraper import get_posts\n",
        "\n",
        "sgmatters_comments=[]\n",
        "sgmatters_image=[]\n",
        "sgmatters_likes=[]\n",
        "sgmatters_postid=[]\n",
        "sgmatters_posttext=[]\n",
        "sgmatters_posturl=[]\n",
        "sgmatters_sharedtext=[]\n",
        "sgmatters_shares=[]\n",
        "sgmatters_text=[]\n",
        "sgmatters_time=[]\n",
        "\n",
        "for post in get_posts('SingaporeMatters', pages=50000):\n",
        "  sgmatters_comments.append(post['comments'])\n",
        "  sgmatters_image.append(post['image'])\n",
        "  sgmatters_likes.append(post['likes'])\n",
        "  sgmatters_postid.append(post['post_id'])\n",
        "  sgmatters_posttext.append(post['post_text'])\n",
        "  sgmatters_posturl.append(post['post_url'])\n",
        "  sgmatters_sharedtext.append(post['shared_text'])\n",
        "  sgmatters_shares.append(post['shares'])\n",
        "  sgmatters_text.append(post['text'])\n",
        "  sgmatters_time.append(post['time'])\n",
        "  print(post['text'][:50])"
      ],
      "execution_count": null,
      "outputs": []
    },
    {
      "cell_type": "code",
      "metadata": {
        "id": "L-5Usx8MeZpJ",
        "colab_type": "code",
        "colab": {}
      },
      "source": [
        "frames=[pd.DataFrame(sgmatters_comments),pd.DataFrame(sgmatters_image),pd.DataFrame(sgmatters_likes),pd.DataFrame(sgmatters_postid),pd.DataFrame(sgmatters_posttext),pd.DataFrame(sgmatters_posturl),\n",
        "        pd.DataFrame(sgmatters_sharedtext),pd.DataFrame(sgmatters_shares),pd.DataFrame(sgmatters_text),pd.DataFrame(sgmatters_time)]\n",
        "sgmatters_db_all=pd.concat(frames,axis=1)\n",
        "\n",
        "\n",
        "# Write the DataFrame to CSV file.\n",
        "with open('/gdrive/My Drive/sgmatters_DB.csv', 'w') as f:\n",
        "  sgmatters_db_all.to_csv(f)"
      ],
      "execution_count": null,
      "outputs": []
    },
    {
      "cell_type": "code",
      "metadata": {
        "id": "eiAMHrM4GDV9",
        "colab_type": "code",
        "colab": {}
      },
      "source": [
        "from facebook_scraper import get_posts\n",
        "\n",
        "TOC_comments=[]\n",
        "TOC_image=[]\n",
        "TOC_likes=[]\n",
        "TOC_postid=[]\n",
        "TOC_posttext=[]\n",
        "TOC_posturl=[]\n",
        "TOC_sharedtext=[]\n",
        "TOC_shares=[]\n",
        "TOC_text=[]\n",
        "TOC_time=[]\n",
        "\n",
        "for post in get_posts('theonlinecitizen', pages=50000):\n",
        "  TOC_comments.append(post['comments'])\n",
        "  TOC_image.append(post['image'])\n",
        "  TOC_likes.append(post['likes'])\n",
        "  TOC_postid.append(post['post_id'])\n",
        "  TOC_posttext.append(post['post_text'])\n",
        "  TOC_posturl.append(post['post_url'])\n",
        "  TOC_sharedtext.append(post['shared_text'])\n",
        "  TOC_shares.append(post['shares'])\n",
        "  TOC_text.append(post['text'])\n",
        "  TOC_time.append(post['time'])\n",
        "  print(post['text'][:50])\n"
      ],
      "execution_count": null,
      "outputs": []
    },
    {
      "cell_type": "code",
      "metadata": {
        "id": "aV8_OusfGRzy",
        "colab_type": "code",
        "colab": {}
      },
      "source": [
        "frames=[pd.DataFrame(TOC_comments),pd.DataFrame(TOC_image),pd.DataFrame(TOC_likes),pd.DataFrame(TOC_postid),pd.DataFrame(TOC_posttext),pd.DataFrame(TOC_posturl),\n",
        "        pd.DataFrame(TOC_sharedtext),pd.DataFrame(TOC_shares),pd.DataFrame(TOC_text),pd.DataFrame(TOC_time)]\n",
        "TOC_db_all=pd.concat(frames,axis=1)\n",
        "\n",
        "\n",
        "# Write the DataFrame to CSV file.\n",
        "with open('/gdrive/My Drive/TOC_DB.csv', 'w') as f:\n",
        "  TOC_db_all.to_csv(f)"
      ],
      "execution_count": null,
      "outputs": []
    },
    {
      "cell_type": "markdown",
      "metadata": {
        "id": "rP1XW9eOS5qF",
        "colab_type": "text"
      },
      "source": [
        "WAKE UP SG"
      ]
    },
    {
      "cell_type": "code",
      "metadata": {
        "id": "CUiO68pkTEVC",
        "colab_type": "code",
        "colab": {}
      },
      "source": [
        "from facebook_scraper import get_posts\n",
        "\n",
        "WUSG_comments=[]\n",
        "WUSG_image=[]\n",
        "WUSG_likes=[]\n",
        "WUSG_postid=[]\n",
        "WUSG_posttext=[]\n",
        "WUSG_posturl=[]\n",
        "WUSG_sharedtext=[]\n",
        "WUSG_shares=[]\n",
        "WUSG_text=[]\n",
        "WUSG_time=[]\n",
        "\n",
        "for post in get_posts('wakeupSG', pages=50000):\n",
        "  WUSG_comments.append(post['comments'])\n",
        "  WUSG_image.append(post['image'])\n",
        "  WUSG_likes.append(post['likes'])\n",
        "  WUSG_postid.append(post['post_id'])\n",
        "  WUSG_posttext.append(post['post_text'])\n",
        "  WUSG_posturl.append(post['post_url'])\n",
        "  WUSG_sharedtext.append(post['shared_text'])\n",
        "  WUSG_shares.append(post['shares'])\n",
        "  WUSG_text.append(post['text'])\n",
        "  WUSG_time.append(post['time'])\n",
        "  print(post['text'][:50])\n",
        "\n"
      ],
      "execution_count": null,
      "outputs": []
    },
    {
      "cell_type": "code",
      "metadata": {
        "id": "M8AAaJDlTdIN",
        "colab_type": "code",
        "colab": {}
      },
      "source": [
        "frames=[pd.DataFrame(WUSG_comments),pd.DataFrame(WUSG_image),pd.DataFrame(WUSG_likes),pd.DataFrame(WUSG_postid),pd.DataFrame(WUSG_posttext),pd.DataFrame(WUSG_posturl),\n",
        "        pd.DataFrame(WUSG_sharedtext),pd.DataFrame(WUSG_shares),pd.DataFrame(WUSG_text),pd.DataFrame(WUSG_time)]\n",
        "WUSG_db_all=pd.concat(frames,axis=1)\n",
        "\n",
        "\n",
        "# Write the DataFrame to CSV file.\n",
        "with open('/gdrive/My Drive/WUSG_DB.csv', 'w') as f:\n",
        "  WUSG_db_all.to_csv(f)\n"
      ],
      "execution_count": null,
      "outputs": []
    },
    {
      "cell_type": "code",
      "metadata": {
        "id": "Q1jCs9Qr8fGJ",
        "colab_type": "code",
        "colab": {}
      },
      "source": [
        "from facebook_scraper import get_posts\n",
        "\n",
        "TISG_comments=[]\n",
        "TISG_image=[]\n",
        "TISG_likes=[]\n",
        "TISG_postid=[]\n",
        "TISG_posttext=[]\n",
        "TISG_posturl=[]\n",
        "TISG_sharedtext=[]\n",
        "TISG_shares=[]\n",
        "TISG_text=[]\n",
        "TISG_time=[]\n",
        "\n",
        "for post in get_posts(\"TheIndependentSG\", pages=50000):\n",
        "  TISG_comments.append(post['comments'])\n",
        "  TISG_image.append(post['image'])\n",
        "  TISG_likes.append(post['likes'])\n",
        "  TISG_postid.append(post['post_id'])\n",
        "  TISG_posttext.append(post['post_text'])\n",
        "  TISG_posturl.append(post['post_url'])\n",
        "  TISG_sharedtext.append(post['shared_text'])\n",
        "  TISG_shares.append(post['shares'])\n",
        "  TISG_text.append(post['text'])\n",
        "  TISG_time.append(post['time'])\n",
        "  print(post['text'][:50])\n"
      ],
      "execution_count": null,
      "outputs": []
    },
    {
      "cell_type": "code",
      "metadata": {
        "id": "DTnWC1Ws8qDg",
        "colab_type": "code",
        "colab": {}
      },
      "source": [
        "frames=[pd.DataFrame(TISG_comments),pd.DataFrame(TISG_image),pd.DataFrame(TISG_likes),pd.DataFrame(TISG_postid),pd.DataFrame(TISG_posttext),pd.DataFrame(TISG_posturl),\n",
        "        pd.DataFrame(TISG_sharedtext),pd.DataFrame(TISG_shares),pd.DataFrame(TISG_text),pd.DataFrame(TISG_time)]\n",
        "TISG_db_all=pd.concat(frames,axis=1)\n",
        "\n",
        "\n",
        "# Write the DataFrame to CSV file.\n",
        "with open('/gdrive/My Drive/TISG_DB.csv', 'w') as f:\n",
        "  TISG_db_all.to_csv(f)\n"
      ],
      "execution_count": null,
      "outputs": []
    },
    {
      "cell_type": "code",
      "metadata": {
        "id": "-XKbEQLHBK--",
        "colab_type": "code",
        "colab": {}
      },
      "source": [
        "from facebook_scraper import get_posts\n",
        "\n",
        "STRU_comments=[]\n",
        "STRU_image=[]\n",
        "STRU_likes=[]\n",
        "STRU_postid=[]\n",
        "STRU_posttext=[]\n",
        "STRU_posturl=[]\n",
        "STRU_sharedtext=[]\n",
        "STRU_shares=[]\n",
        "STRU_text=[]\n",
        "STRU_time=[]\n",
        "\n",
        "for post in get_posts(\"STReviewUncensored\", pages=50000):\n",
        "  STRU_comments.append(post['comments'])\n",
        "  STRU_image.append(post['image'])\n",
        "  STRU_likes.append(post['likes'])\n",
        "  STRU_postid.append(post['post_id'])\n",
        "  STRU_posttext.append(post['post_text'])\n",
        "  STRU_posturl.append(post['post_url'])\n",
        "  STRU_sharedtext.append(post['shared_text'])\n",
        "  STRU_shares.append(post['shares'])\n",
        "  STRU_text.append(post['text'])\n",
        "  STRU_time.append(post['time'])\n",
        "  print(post['text'][:50])\n"
      ],
      "execution_count": null,
      "outputs": []
    },
    {
      "cell_type": "code",
      "metadata": {
        "id": "2kYgtkVfBmZJ",
        "colab_type": "code",
        "colab": {}
      },
      "source": [
        "frames=[pd.DataFrame(STRU_comments),pd.DataFrame(STRU_image),pd.DataFrame(STRU_likes),pd.DataFrame(STRU_postid),pd.DataFrame(STRU_posttext),pd.DataFrame(STRU_posturl),\n",
        "        pd.DataFrame(STRU_sharedtext),pd.DataFrame(STRU_shares),pd.DataFrame(STRU_text),pd.DataFrame(STRU_time)]\n",
        "STRU_db_all=pd.concat(frames,axis=1)\n",
        "\n",
        "\n",
        "# Write the DataFrame to CSV file.\n",
        "with open('/gdrive/My Drive/STRU_DB.csv', 'w') as f:\n",
        "  STRU_db_all.to_csv(f)\n",
        "\n"
      ],
      "execution_count": null,
      "outputs": []
    },
    {
      "cell_type": "code",
      "metadata": {
        "id": "UIeAUYLVDXwC",
        "colab_type": "code",
        "colab": {}
      },
      "source": [
        "from facebook_scraper import get_posts\n",
        "\n",
        "DHRS_comments=[]\n",
        "DHRS_image=[]\n",
        "DHRS_likes=[]\n",
        "DHRS_postid=[]\n",
        "DHRS_posttext=[]\n",
        "DHRS_posturl=[]\n",
        "DHRS_sharedtext=[]\n",
        "DHRS_shares=[]\n",
        "DHRS_text=[]\n",
        "DHRS_time=[]\n",
        "\n",
        "for post in get_posts(\"Democracy-and-Human-Rights-for-Singapore-2529543017080086\", pages=50000):\n",
        "  DHRS_comments.append(post['comments'])\n",
        "  DHRS_image.append(post['image'])\n",
        "  DHRS_likes.append(post['likes'])\n",
        "  DHRS_postid.append(post['post_id'])\n",
        "  DHRS_posttext.append(post['post_text'])\n",
        "  DHRS_posturl.append(post['post_url'])\n",
        "  DHRS_sharedtext.append(post['shared_text'])\n",
        "  DHRS_shares.append(post['shares'])\n",
        "  DHRS_text.append(post['text'])\n",
        "  DHRS_time.append(post['time'])\n",
        "  print(post['text'][:50])\n"
      ],
      "execution_count": null,
      "outputs": []
    },
    {
      "cell_type": "code",
      "metadata": {
        "id": "AGxxzuPoDjSI",
        "colab_type": "code",
        "colab": {}
      },
      "source": [
        "frames=[pd.DataFrame(DHRS_comments),pd.DataFrame(DHRS_image),pd.DataFrame(DHRS_likes),pd.DataFrame(DHRS_postid),pd.DataFrame(DHRS_posttext),pd.DataFrame(DHRS_posturl),\n",
        "        pd.DataFrame(DHRS_sharedtext),pd.DataFrame(DHRS_shares),pd.DataFrame(DHRS_text),pd.DataFrame(DHRS_time)]\n",
        "DHRS_db_all=pd.concat(frames,axis=1)\n",
        "\n",
        "\n",
        "# Write the DataFrame to CSV file.\n",
        "with open('/gdrive/My Drive/DHRS_DB.csv', 'w') as f:\n",
        "  DHRS_db_all.to_csv(f)\n",
        "\n"
      ],
      "execution_count": null,
      "outputs": []
    },
    {
      "cell_type": "code",
      "metadata": {
        "id": "e8Od6hxfKkbR",
        "colab_type": "code",
        "colab": {}
      },
      "source": [
        "from facebook_scraper import get_posts\n",
        "\n",
        "SNSG_comments=[]\n",
        "SNSG_image=[]\n",
        "SNSG_likes=[]\n",
        "SNSG_postid=[]\n",
        "SNSG_posttext=[]\n",
        "SNSG_posturl=[]\n",
        "SNSG_sharedtext=[]\n",
        "SNSG_shares=[]\n",
        "SNSG_text=[]\n",
        "SNSG_time=[]\n",
        "\n",
        "for post in get_posts(\"State-News-Singapore-108794737524065\", pages=50000):\n",
        "  SNSG_comments.append(post['comments'])\n",
        "  SNSG_image.append(post['image'])\n",
        "  SNSG_likes.append(post['likes'])\n",
        "  SNSG_postid.append(post['post_id'])\n",
        "  SNSG_posttext.append(post['post_text'])\n",
        "  SNSG_posturl.append(post['post_url'])\n",
        "  SNSG_sharedtext.append(post['shared_text'])\n",
        "  SNSG_shares.append(post['shares'])\n",
        "  SNSG_text.append(post['text'])\n",
        "  SNSG_time.append(post['time'])\n",
        "  print(post['text'][:50])\n"
      ],
      "execution_count": null,
      "outputs": []
    },
    {
      "cell_type": "code",
      "metadata": {
        "id": "ERD3SPblMFr2",
        "colab_type": "code",
        "colab": {}
      },
      "source": [
        "frames=[pd.DataFrame(SNSG_comments),pd.DataFrame(SNSG_image),pd.DataFrame(SNSG_likes),pd.DataFrame(SNSG_postid),pd.DataFrame(SNSG_posttext),pd.DataFrame(SNSG_posturl),\n",
        "        pd.DataFrame(SNSG_sharedtext),pd.DataFrame(SNSG_shares),pd.DataFrame(SNSG_text),pd.DataFrame(SNSG_time)]\n",
        "SNSG_db_all=pd.concat(frames,axis=1)\n",
        "\n",
        "\n",
        "# Write the DataFrame to CSV file.\n",
        "with open('/gdrive/My Drive/SNSG_DB.csv', 'w') as f:\n",
        "  SNSG_db_all.to_csv(f)\n"
      ],
      "execution_count": null,
      "outputs": []
    },
    {
      "cell_type": "code",
      "metadata": {
        "id": "QveefaM-MHZk",
        "colab_type": "code",
        "colab": {}
      },
      "source": [
        "from facebook_scraper import get_posts\n",
        "\n",
        "FBP_comments=[]\n",
        "FBP_image=[]\n",
        "FBP_likes=[]\n",
        "FBP_postid=[]\n",
        "FBP_posttext=[]\n",
        "FBP_posturl=[]\n",
        "FBP_sharedtext=[]\n",
        "FBP_shares=[]\n",
        "FBP_text=[]\n",
        "FBP_time=[]\n",
        "\n",
        "for post in get_posts(\"FabricationsByThePAP\", pages=50000):\n",
        "  FBP_comments.append(post['comments'])\n",
        "  FBP_image.append(post['image'])\n",
        "  FBP_likes.append(post['likes'])\n",
        "  FBP_postid.append(post['post_id'])\n",
        "  FBP_posttext.append(post['post_text'])\n",
        "  FBP_posturl.append(post['post_url'])\n",
        "  FBP_sharedtext.append(post['shared_text'])\n",
        "  FBP_shares.append(post['shares'])\n",
        "  FBP_text.append(post['text'])\n",
        "  FBP_time.append(post['time'])\n",
        "  print(post['text'][:50])"
      ],
      "execution_count": null,
      "outputs": []
    },
    {
      "cell_type": "code",
      "metadata": {
        "id": "yNHu_8BPMSXp",
        "colab_type": "code",
        "colab": {}
      },
      "source": [
        "frames=[pd.DataFrame(FBP_comments),pd.DataFrame(FBP_image),pd.DataFrame(FBP_likes),pd.DataFrame(FBP_postid),pd.DataFrame(FBP_posttext),pd.DataFrame(FBP_posturl),\n",
        "        pd.DataFrame(FBP_sharedtext),pd.DataFrame(FBP_shares),pd.DataFrame(FBP_text),pd.DataFrame(FBP_time)]\n",
        "FBP_db_all=pd.concat(frames,axis=1)\n",
        "\n",
        "\n",
        "# Write the DataFrame to CSV file.\n",
        "with open('/gdrive/My Drive/FBP_DB.csv', 'w') as f:\n",
        "  FBP_db_all.to_csv(f)"
      ],
      "execution_count": null,
      "outputs": []
    }
  ]
}